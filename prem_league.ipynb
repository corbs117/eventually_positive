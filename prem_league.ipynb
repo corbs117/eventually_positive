{
 "cells": [
  {
   "cell_type": "code",
   "execution_count": 35,
   "metadata": {
    "collapsed": false
   },
   "outputs": [
    {
     "name": "stdout",
     "output_type": "stream",
     "text": [
      "C:\\Users\\Steve\n",
      "Reading 1-premierleague-2010.csv\n",
      "Reading 1-premierleague-2011.csv\n",
      "Reading 1-premierleague-2012.csv\n",
      "Reading 1-premierleague-2013.csv\n",
      "         Date       Team 1      Team 2   FT   HT\n",
      "0  2010-08-14  Aston Villa    West Ham  3-0  2-0\n",
      "1  2010-08-14    Blackburn     Everton  1-0  1-0\n",
      "2  2010-08-14       Bolton      Fulham  0-0  0-0\n",
      "3  2010-08-14      Chelsea   West Brom  6-0  2-0\n",
      "4  2010-08-14   Sunderland  Birmingham  2-2  1-0\n",
      "5  2010-08-14    Tottenham    Man City  0-0  0-0\n",
      "6  2010-08-14        Wigan   Blackpool  0-4  0-3\n",
      "7  2010-08-14       Wolves       Stoke  2-1  2-0\n",
      "8  2010-08-15    Liverpool     Arsenal  1-1  0-0\n",
      "9  2010-08-16   Man United   Newcastle  3-0  2-0\n",
      "------\n",
      "           Date       Team 1          Team 2   FT   HT\n",
      "370  2014-05-11      Cardiff         Chelsea  1-2  1-0\n",
      "371  2014-05-11       Fulham  Crystal Palace  2-2  0-1\n",
      "372  2014-05-11         Hull         Everton  0-2  0-1\n",
      "373  2014-05-11    Liverpool       Newcastle  2-1  0-1\n",
      "374  2014-05-11     Man City        West Ham  2-0  1-0\n",
      "375  2014-05-11      Norwich         Arsenal  0-2  0-0\n",
      "376  2014-05-11  Southampton      Man United  1-1  1-0\n",
      "377  2014-05-11   Sunderland         Swansea  1-3  0-2\n",
      "378  2014-05-11    Tottenham     Aston Villa  3-0  3-0\n",
      "379  2014-05-11    West Brom           Stoke  1-2  0-1\n",
      "Total games: 1520 \n"
     ]
    }
   ],
   "source": [
    "import pandas as pd\n",
    "import os\n",
    "print(os.getcwd())\n",
    "\n",
    "YEARS = [2010, 2011, 2012, 2013]\n",
    "\n",
    "# i'm expecting to find x files in the working dir : 1-premierleague-<year>.csv\n",
    "# see https://github.com/footballcsv/eng-england/tree/master/2010s/2010-11\n",
    "\n",
    "df = pd.DataFrame()\n",
    "for year in YEARS:\n",
    "    print('Reading 1-premierleague-%i.csv' % year)\n",
    "    df = pd.concat([df, pd.read_csv('1-premierleague-%i.csv' % year)])\n",
    "print(df.head(10))\n",
    "print(\"------\")\n",
    "print(df.tail(10))\n",
    "\n",
    "print(\"Total games: %i \" % len(df))"
   ]
  },
  {
   "cell_type": "code",
   "execution_count": 28,
   "metadata": {
    "collapsed": false
   },
   "outputs": [],
   "source": [
    "def check_for_draw(x):\n",
    "    h,a = x.split('-')\n",
    "    return 1 if h == a else 0\n",
    "\n",
    "df['HT_Draw'] = df.HT.apply(check_for_draw)"
   ]
  },
  {
   "cell_type": "code",
   "execution_count": 33,
   "metadata": {
    "collapsed": false
   },
   "outputs": [
    {
     "name": "stdout",
     "output_type": "stream",
     "text": [
      "0.5947368421052631\n",
      "0.4052631578947368\n"
     ]
    }
   ],
   "source": [
    "for i, group in df.groupby('HT_Draw'):\n",
    "    print(len(group)/len(df))"
   ]
  },
  {
   "cell_type": "code",
   "execution_count": null,
   "metadata": {
    "collapsed": true
   },
   "outputs": [],
   "source": []
  }
 ],
 "metadata": {
  "kernelspec": {
   "display_name": "Python 3",
   "language": "python",
   "name": "python3"
  },
  "language_info": {
   "codemirror_mode": {
    "name": "ipython",
    "version": 3
   },
   "file_extension": ".py",
   "mimetype": "text/x-python",
   "name": "python",
   "nbconvert_exporter": "python",
   "pygments_lexer": "ipython3",
   "version": "3.5.0"
  }
 },
 "nbformat": 4,
 "nbformat_minor": 0
}
